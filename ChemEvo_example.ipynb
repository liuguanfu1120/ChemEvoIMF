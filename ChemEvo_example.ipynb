{
 "cells": [
  {
   "cell_type": "code",
   "execution_count": 1,
   "metadata": {},
   "outputs": [],
   "source": [
    "# -*- coding: utf-8 -*-\n",
    "\"\"\"\n",
    "Created on May 27, 2024\n",
    "Last modified on June 7, 2024\n",
    "@Author: Guan-Fu Liu\n",
    "\n",
    "A simple example for using ChemEvo.\n",
    "\"\"\"\n",
    "from ChemEvo import *\n",
    "import matplotlib.pyplot as plt\n",
    "from matplotlib.gridspec import GridSpec\n",
    "%matplotlib widget"
   ]
  },
  {
   "cell_type": "code",
   "execution_count": 2,
   "metadata": {},
   "outputs": [
    {
     "name": "stdout",
     "output_type": "stream",
     "text": [
      "The imf_dict will be ignored.\n",
      "Only the imf_evolve will be used.\n",
      "The elements you notice but not available in the yield table of SNIa, Z_0_02 are\n",
      " {'H', 'He'}\n",
      "Step 0: Initialize the first age, the primordial gas\n"
     ]
    },
    {
     "name": "stderr",
     "output_type": "stream",
     "text": [
      "100%|██████████| 1363/1363 [00:03<00:00, 341.08it/s]\n"
     ]
    },
    {
     "name": "stdout",
     "output_type": "stream",
     "text": [
      "Step 1: Calculate the remaining ages\n"
     ]
    },
    {
     "name": "stderr",
     "output_type": "stream",
     "text": [
      "  2%|▏         | 26/1362 [04:42<4:05:10, 11.01s/it]"
     ]
    }
   ],
   "source": [
    "SFH = { }\n",
    "SFH['File'] = \"./inputs/SFH.h5\"\n",
    "with h5py.File(SFH['File'], 'r') as f:\n",
    "    SFH['Age'] = f['SFH/1Square'][...][:, 0]\n",
    "    SFH['SFR'] = f['SFH/1Square'][...][:, 1]\n",
    "\n",
    "SFE = 0.3\n",
    "\n",
    "###### It is a simple test. ######\n",
    "yield_files = {\n",
    "                \"AGB+SNcc\": \"./inputs/NuPyCEE/agb_and_massive_stars_C15_N13_0_5_HNe/yields2.h5\",\n",
    "                \"SNIa\": \"./inputs/NuPyCEE/sn1a_i99_W7/yields2.h5\",\n",
    "               }\n",
    "mass_lifetime_file = \"./inputs/NuPyCEE/agb_and_massive_stars_C15_N13_0_5_HNe/yields2.h5\"\n",
    "p_preset = None\n",
    "out_file = \"N13.h5\"\n",
    "comments = \"To compare the result with that of Nomoto et al. (2013)\"\n",
    "input_primordial_gas = None\n",
    "\n",
    "imf_dict = {\"Salpeter\": None}\n",
    "ElemNotice = [\"H\", \"He\", \"N\", \"O\", \"Fe\", \"Metal\"]\n",
    "interp_kind = \"linear-linear\"\n",
    "SNIaOn = True\n",
    "solar_set = \"Default\"\n",
    "Z_0 = 0\n",
    "output_dir = \"./outputs\"\n",
    "\n",
    "def imf_evolve(Z_gas, age):\n",
    "    \"\"\"\n",
    "    The IMF could evolve with the metallicity of the gas or with the age.\n",
    "    The first argument is the metallicity of the gas, while the second argument is the age of the gas.\n",
    "    There must be two arguments in the function even if one of them is not used (which is often the case).\n",
    "    Here, I provide a very simple case where the IMF is top-heavy if the gas metallicity is below 0.02,\n",
    "    but it is Salpeter-like otherwise.\n",
    "\n",
    "    Parameters\n",
    "    ----------\n",
    "    Z_gas : float\n",
    "        The metallicity of the gas.\n",
    "    age : float\n",
    "        The age in yr.\n",
    "    \n",
    "    Returns\n",
    "    -------\n",
    "    function\n",
    "        The IMF function.\n",
    "    \"\"\"\n",
    "    if Z_gas < 0.02:\n",
    "        return lambda m: m**(-1.3) if (m>=constants.Mstar_min and m<=constants.Mstar_max) else 0\n",
    "    else:\n",
    "        return lambda m: m**(-2.35) if (m>=constants.Mstar_min and m<=constants.Mstar_max) else 0\n",
    "\n",
    "GasElement, ZGas, EjectElement, SNIaElement, SNccElement, AGB_Element, StarInitElement, YieldsTable,\\\n",
    "SNIaNum, SNccNum, AGB_Num, Nstar, StellarMass = \\\n",
    "ChemEvo(SFH, SFE, yield_files, imf_dict=imf_dict, imf_evolve=imf_evolve, SNIaOn=SNIaOn, p_preset=p_preset,\n",
    "        mass_lifetime_file=mass_lifetime_file, interp_kind=interp_kind, solar_set=solar_set, Z_0=Z_0, \n",
    "        input_primordial_gas=input_primordial_gas, ElemNotice=ElemNotice, output_dir=output_dir, \n",
    "        out_file=out_file, comments=comments)\n",
    "###### It is a simple test. ######"
   ]
  },
  {
   "cell_type": "markdown",
   "metadata": {},
   "source": [
    "The output file is `./outputs/N13.h5`.\n",
    "I generated an output file and moved it to `./outputs/For-Comparison/N13.h5`.\n",
    "If you generate the output file `./outputs/N13.h5`, you could compare the two files to check if there is any problem."
   ]
  },
  {
   "cell_type": "code",
   "execution_count": null,
   "metadata": {},
   "outputs": [],
   "source": []
  }
 ],
 "metadata": {
  "kernelspec": {
   "display_name": "base",
   "language": "python",
   "name": "python3"
  },
  "language_info": {
   "codemirror_mode": {
    "name": "ipython",
    "version": 3
   },
   "file_extension": ".py",
   "mimetype": "text/x-python",
   "name": "python",
   "nbconvert_exporter": "python",
   "pygments_lexer": "ipython3",
   "version": "3.11.9"
  }
 },
 "nbformat": 4,
 "nbformat_minor": 2
}
