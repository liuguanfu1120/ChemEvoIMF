{
 "cells": [
  {
   "cell_type": "code",
   "execution_count": 1,
   "metadata": {},
   "outputs": [],
   "source": [
    "# -*- coding: utf-8 -*-\n",
    "\"\"\"\n",
    "Created on May 5, 2024\n",
    "Last modified on May 5, 2024\n",
    "@Author: Guan-Fu Liu\n",
    "\n",
    "Description:\n",
    "To merge the yields from AGB and SNcc\n",
    "\"\"\"\n",
    "import numpy as np\n",
    "import pandas as pd\n",
    "import matplotlib.pyplot as plt\n",
    "import os\n",
    "import sys\n",
    "sys.path.insert(0, '/Users/liuguanfu/Workspace/SAS-21/targets/MRK1216/spex/jupyter/IMF/chemevoimf')\n",
    "import utils\n",
    "import h5py\n",
    "import shutil"
   ]
  },
  {
   "cell_type": "code",
   "execution_count": 2,
   "metadata": {},
   "outputs": [],
   "source": [
    "out_dir = './AGB+SNcc/'\n",
    "\n",
    "yields_sets = { }\n",
    "\n",
    "yields_sets['agb_and_massive_stars_K10_N13'] = [\n",
    "    ('./AGB/N13-0.0000-AGB-total.csv', './SNcc/N13-0.0000-SNcc-total.csv', 'Z=0.0000'), \n",
    "    ('./AGB/K10-0.0001-AGB-total.csv', './SNcc/N13-0.0010-SNcc-total.csv', 'Z=0.0001'),\n",
    "    ('./AGB/K10-0.0040-AGB-total.csv', './SNcc/N13-0.0040-SNcc-total.csv', 'Z=0.0040'),\n",
    "    ('./AGB/K10-0.0080-AGB-total.csv', './SNcc/N13-0.0080-SNcc-total.csv', 'Z=0.0080'),\n",
    "    ('./AGB/K10-0.0200-AGB-total.csv', './SNcc/N13-0.0200-SNcc-total.csv', 'Z=0.0200'),\n",
    "    ('./AGB/K10-0.0200-AGB-total.csv', './SNcc/N13-0.0500-SNcc-total.csv', 'Z=0.0500'),\n",
    "    ]\n",
    "\n",
    "yields_sets['agb_and_massive_stars_K10_N13_S16N20'] = [\n",
    "    ('./AGB/N13-0.0000-AGB-total.csv', './SNcc/N13-0.0000-SNcc-total.csv', 'Z=0.0000'), \n",
    "    ('./AGB/K10-0.0001-AGB-total.csv', './SNcc/N13-0.0010-SNcc-total.csv', 'Z=0.0001'),\n",
    "    ('./AGB/K10-0.0040-AGB-total.csv', './SNcc/N13-0.0040-SNcc-total.csv', 'Z=0.0040'),\n",
    "    ('./AGB/K10-0.0080-AGB-total.csv', './SNcc/N13-0.0080-SNcc-total.csv', 'Z=0.0080'),\n",
    "    ('./AGB/K10-0.0200-AGB-total.csv', './SNcc/N13-0.0500-SNcc-total.csv', 'Z=0.0500'),\n",
    "    ('./AGB/K10-0.0200-AGB-total.csv', './SNcc/S16N20-0.0200-SNcc-total.csv', 'Z=0.0200'),\n",
    "    ]\n",
    "\n",
    "yields_sets['agb_and_massive_stars_K10_N13_S16W18'] = [\n",
    "    ('./AGB/N13-0.0000-AGB-total.csv', './SNcc/N13-0.0000-SNcc-total.csv', 'Z=0.0000'), \n",
    "    ('./AGB/K10-0.0001-AGB-total.csv', './SNcc/N13-0.0010-SNcc-total.csv', 'Z=0.0001'),\n",
    "    ('./AGB/K10-0.0040-AGB-total.csv', './SNcc/N13-0.0040-SNcc-total.csv', 'Z=0.0040'),\n",
    "    ('./AGB/K10-0.0080-AGB-total.csv', './SNcc/N13-0.0080-SNcc-total.csv', 'Z=0.0080'),\n",
    "    ('./AGB/K10-0.0200-AGB-total.csv', './SNcc/N13-0.0500-SNcc-total.csv', 'Z=0.0500'),\n",
    "    ('./AGB/K10-0.0200-AGB-total.csv', './SNcc/S16W18-0.0200-SNcc-total.csv', 'Z=0.0200'),\n",
    "    ]\n",
    "\n",
    "comments = { }\n",
    "comments['agb_and_massive_stars_K10_N13'] = 'AGB and SNcc yields from Karakas (2010) and Nomoto et al. (2013)'\n",
    "comments['agb_and_massive_stars_K10_N13_S16N20'] = \\\n",
    "    'AGB and SNcc yields from Karakas (2010) and Nomoto et al. (2013) and N20 model (solar metallicity) of Sukhbold et al. (2016)'\n",
    "comments['agb_and_massive_stars_K10_N13_S16W18'] = \\\n",
    "    'AGB and SNcc yields from Karakas (2010) and Nomoto et al. (2013) and W18 model (solar metallicity) of Sukhbold et al. (2018)'\n",
    "\n",
    "for key in yields_sets:\n",
    "    yields_set = pd.DataFrame(yields_sets[key], columns=['AGB', 'SNcc', 'Label'])\n",
    "    yields_sets[key] = yields_set"
   ]
  },
  {
   "cell_type": "code",
   "execution_count": 3,
   "metadata": {},
   "outputs": [],
   "source": [
    "for key in yields_sets.keys():\n",
    "    if not os.path.exists(out_dir+key):\n",
    "        os.makedirs(out_dir+key)\n",
    "    for row1 in yields_sets[key].iterrows():\n",
    "        AGB = pd.read_csv(row1[1]['AGB'])\n",
    "        SNcc = pd.read_csv(row1[1]['SNcc'])\n",
    "        df1 = pd.merge(AGB, SNcc, on='M', how='inner')\n",
    "        df1.set_index('M', inplace=True)\n",
    "        df1.to_csv(\"%s%s/%s.csv\"%(out_dir, key, row1[1]['Label']))\n",
    "        # Mass grids where the yields are to be extra or interpolated\n",
    "        columns = [\"%0.2e\" % a for a in np.logspace(np.log10(0.08), np.log10(150), 300)]\n",
    "        # Empty dataframe with the same index as df1\n",
    "        df2 = pd.DataFrame(np.zeros((len(df1.index), len(columns))), index=df1.index, columns=columns)\n",
    "        for i, row2 in df1.iterrows():\n",
    "            x1 = row2.index.to_numpy().astype(float)  # x1 is the initial mass from original yields\n",
    "            y1 = row2.to_numpy().astype(float)  # y1 is the remnant mass from original yields\n",
    "            df2.loc[row2.name, :] = [utils.extra_interpolate_yields(x1, y1, row2.name, float(col)) for col in columns]\n",
    "        df2.to_csv(\"%s%s/%s_interpolated.csv\"%(out_dir, key, row1[1]['Label']))\n",
    "    with h5py.File(\"%s%s/yields1.h5\"%(out_dir, key), 'w') as f:\n",
    "        f.attrs['Comments'] = comments[key]\n",
    "        for label in yields_sets[key]['Label']:\n",
    "            # Create a group for each initial metallicity\n",
    "            f.create_group(label)\n",
    "            # hdf5 does not support string with object type\n",
    "            # \"|S\" will find the maximum length of the string in the selected column\n",
    "            df1 = pd.read_csv(\"%s%s/%s.csv\"%(out_dir, key, label))\n",
    "            df1['M'] = df1['M'].astype('|S')\n",
    "            data = df1.to_records(index=False)\n",
    "            dtype = df1.to_records(index=False).dtype\n",
    "            f[label].attrs['Z'] = \"%s\" % label[2:]\n",
    "            f[label].attrs['MassUnit'] = 'Msun'\n",
    "            f[label].create_dataset('Original', data=data, dtype=dtype)\n",
    "\n",
    "            df2 = pd.read_csv(\"%s%s/%s_interpolated.csv\"%(out_dir, key, label))            \n",
    "            df2['M'] = df2['M'].astype('|S')\n",
    "            data = df2.to_records(index=False)\n",
    "            dtype = df2.to_records(index=False).dtype\n",
    "            f[label].create_dataset('Interpolated', data=df2.to_records(), dtype=dtype)\n",
    "    \n",
    "    # yields2.h5 is the other kind of hdf5 file by using to_hdf\n",
    "    # but the content is the same as yields1.h5\n",
    "    with h5py.File(\"%s%s/yields2.h5\"%(out_dir, key), 'w') as f:\n",
    "        f.attrs['Comments'] = comments[key]\n",
    "    for label in yields_sets[key]['Label']:\n",
    "        # Create a group for each initial metallicity\n",
    "        df1 = pd.read_csv(\"%s%s/%s.csv\"%(out_dir, key, label), index_col=0)\n",
    "        df1.to_hdf(\"%s%s/yields2.h5\"%(out_dir, key), key='/%s/Original' % label.replace(\"=\", \"_\").replace(\".\", \"_\"), mode='a')\n",
    "        df2 = pd.read_csv(\"%s%s/%s_interpolated.csv\"%(out_dir, key, label), index_col=0)\n",
    "        df2.to_hdf(\"%s%s/yields2.h5\"%(out_dir, key), key='/%s/Interpolated' % label.replace(\"=\", \"_\").replace(\".\", \"_\"), mode='a')\n",
    "    # Add attributes to the datasets\n",
    "    with h5py.File(\"%s%s/yields2.h5\"%(out_dir, key), 'a') as f:\n",
    "        for label in yields_sets[key]['Label']:\n",
    "            f[label.replace(\"=\", \"_\").replace(\".\", \"_\")].attrs['Z'] = \"%s\" % label[2:]\n",
    "            f[label.replace(\"=\", \"_\").replace(\".\", \"_\")].attrs['MassUnit'] = 'Msun'"
   ]
  },
  {
   "cell_type": "code",
   "execution_count": 4,
   "metadata": {},
   "outputs": [
    {
     "data": {
      "text/plain": [
       "'../inputs/K10_N13_S16'"
      ]
     },
     "execution_count": 4,
     "metadata": {},
     "output_type": "execute_result"
    }
   ],
   "source": [
    "# Copy the NuPyCEE directory to the inputs directory\n",
    "if os.path.exists('../inputs/K10_N13_S16'):\n",
    "    shutil.rmtree('../inputs/K10_N13_S16')\n",
    "shutil.copytree('./AGB+SNcc', '../inputs/K10_N13_S16')"
   ]
  },
  {
   "cell_type": "code",
   "execution_count": null,
   "metadata": {},
   "outputs": [],
   "source": []
  }
 ],
 "metadata": {
  "kernelspec": {
   "display_name": "base",
   "language": "python",
   "name": "python3"
  },
  "language_info": {
   "codemirror_mode": {
    "name": "ipython",
    "version": 3
   },
   "file_extension": ".py",
   "mimetype": "text/x-python",
   "name": "python",
   "nbconvert_exporter": "python",
   "pygments_lexer": "ipython3",
   "version": "3.11.5"
  }
 },
 "nbformat": 4,
 "nbformat_minor": 2
}
