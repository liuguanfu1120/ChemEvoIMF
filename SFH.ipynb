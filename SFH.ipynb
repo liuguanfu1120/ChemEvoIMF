{
 "cells": [
  {
   "cell_type": "code",
   "execution_count": 1,
   "metadata": {},
   "outputs": [],
   "source": [
    "# -*- coding: utf-8 -*-\n",
    "\"\"\"\n",
    "Created on May 5, 2024\n",
    "Last modified on May 5, 2024\n",
    "\n",
    "Description: \n",
    "To generate different types of star formation histories\n",
    "\"\"\"\n",
    "import numpy as np\n",
    "import h5py"
   ]
  },
  {
   "cell_type": "code",
   "execution_count": 2,
   "metadata": {},
   "outputs": [],
   "source": [
    "SFH = { }\n",
    "SFH['Age'] = np.loadtxt('Age.txt')\n",
    "SFH['Original'] = np.loadtxt('SFH_366407-all.txt')\n",
    "SFH['1Square'] = np.loadtxt('SFH_1Square.txt')\n",
    "SFH['test'] = np.zeros(SFH['1Square'].shape)\n",
    "SFH['test'][:8] = 300\n",
    "SFH['test'][300:302] = 300"
   ]
  },
  {
   "cell_type": "code",
   "execution_count": 3,
   "metadata": {},
   "outputs": [],
   "source": [
    "with h5py.File('./inputs/SFH.h5', 'w') as f:\n",
    "    f.create_group('SFH')\n",
    "    for key in SFH.keys():\n",
    "        if key == 'Age':\n",
    "            continue\n",
    "        f.create_dataset(\"SFH/%s\"%key, data=np.vstack((SFH['Age'], SFH[key])).T)\n",
    "        f[\"SFH/%s\"%key].attrs[\"Description\"] = key"
   ]
  },
  {
   "cell_type": "code",
   "execution_count": 4,
   "metadata": {},
   "outputs": [],
   "source": [
    "f = h5py.File('./inputs/SFH.h5', 'r')"
   ]
  },
  {
   "cell_type": "code",
   "execution_count": 5,
   "metadata": {},
   "outputs": [],
   "source": [
    "tmp = f['SFH/Original'][:]"
   ]
  },
  {
   "cell_type": "code",
   "execution_count": 6,
   "metadata": {},
   "outputs": [
    {
     "data": {
      "text/plain": [
       "array([1.0000e+07, 2.0000e+07, 3.0000e+07, ..., 1.3620e+10, 1.3630e+10,\n",
       "       1.3634e+10])"
      ]
     },
     "execution_count": 6,
     "metadata": {},
     "output_type": "execute_result"
    }
   ],
   "source": [
    "tmp[:, 0]"
   ]
  },
  {
   "cell_type": "code",
   "execution_count": null,
   "metadata": {},
   "outputs": [],
   "source": []
  },
  {
   "cell_type": "code",
   "execution_count": null,
   "metadata": {},
   "outputs": [],
   "source": []
  }
 ],
 "metadata": {
  "kernelspec": {
   "display_name": "base",
   "language": "python",
   "name": "python3"
  },
  "language_info": {
   "codemirror_mode": {
    "name": "ipython",
    "version": 3
   },
   "file_extension": ".py",
   "mimetype": "text/x-python",
   "name": "python",
   "nbconvert_exporter": "python",
   "pygments_lexer": "ipython3",
   "version": "3.11.5"
  }
 },
 "nbformat": 4,
 "nbformat_minor": 2
}
