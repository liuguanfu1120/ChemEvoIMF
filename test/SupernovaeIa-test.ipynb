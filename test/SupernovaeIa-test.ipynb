{
 "cells": [
  {
   "cell_type": "code",
   "execution_count": 1,
   "metadata": {},
   "outputs": [],
   "source": [
    "# -*- coding: utf-8 -*-\n",
    "\"\"\"\n",
    "Created on May 12, 2024\n",
    "Last modified on May 14, 2024\n",
    "@Author: Guan-Fu Liu\n",
    "\n",
    "To test the SupernovaeIa.py\n",
    "\"\"\"\n",
    "import numpy as np\n",
    "import pandas as pd\n",
    "from scipy.integrate import quad\n",
    "import sys\n",
    "sys.path.insert(0, '../')\n",
    "from IMF import IMF\n",
    "import SupernovaeIa\n",
    "import constants\n",
    "from tqdm import tqdm"
   ]
  },
  {
   "cell_type": "code",
   "execution_count": 7,
   "metadata": {},
   "outputs": [
    {
     "name": "stderr",
     "output_type": "stream",
     "text": [
      "100%|██████████| 10000/10000 [00:24<00:00, 403.94it/s]\n"
     ]
    }
   ],
   "source": [
    "for i in tqdm(range(10000)):\n",
    "    SNIa = SupernovaeIa.SNIa(IMF(IMF_type='Kroupa').imf)\n",
    "    a = SNIa.number(1e9, 0, 4e7)\n",
    "    b = SNIa.number(1e9, 4e7, 6e7)"
   ]
  },
  {
   "cell_type": "code",
   "execution_count": 8,
   "metadata": {},
   "outputs": [
    {
     "name": "stderr",
     "output_type": "stream",
     "text": [
      "100%|██████████| 10000/10000 [00:20<00:00, 482.83it/s]\n"
     ]
    }
   ],
   "source": [
    "for i in tqdm(range(10000)):\n",
    "    SNIa = SupernovaeIa.SNIa(IMF(IMF_type='Kroupa').imf, IMF_type='Kroupa')\n",
    "    a = SNIa.number(1e9, 0, 4e7)\n",
    "    b = SNIa.number(1e9, 4e7, 6e7)"
   ]
  },
  {
   "cell_type": "code",
   "execution_count": null,
   "metadata": {},
   "outputs": [],
   "source": []
  }
 ],
 "metadata": {
  "kernelspec": {
   "display_name": "base",
   "language": "python",
   "name": "python3"
  },
  "language_info": {
   "codemirror_mode": {
    "name": "ipython",
    "version": 3
   },
   "file_extension": ".py",
   "mimetype": "text/x-python",
   "name": "python",
   "nbconvert_exporter": "python",
   "pygments_lexer": "ipython3",
   "version": "3.11.5"
  }
 },
 "nbformat": 4,
 "nbformat_minor": 2
}
