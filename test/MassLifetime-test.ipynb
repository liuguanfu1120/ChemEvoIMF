{
 "cells": [
  {
   "cell_type": "code",
   "execution_count": null,
   "metadata": {},
   "outputs": [],
   "source": [
    "# -*- coding: utf-8 -*-\n",
    "\"\"\"\n",
    "Created on May 12, 2024\n",
    "Last modified on May 14, 2024\n",
    "@Author: Guan-Fu Liu\n",
    "\n",
    "To test the MassLifetime.py\n",
    "\"\"\"\n",
    "import numpy as np\n",
    "import pandas as pd\n",
    "from scipy.integrate import quad\n",
    "import sys\n",
    "sys.path.insert(0, '/Users/liuguanfu/Workspace/SAS-21/targets/MRK1216/spex/jupyter/IMF/chemevoimf')\n",
    "from MassLifetime import MassLifetime\n",
    "import constants\n",
    "import utils\n",
    "import h5py\n",
    "import matplotlib.pyplot as plt\n",
    "import matplotlib.colors as colors\n",
    "from matplotlib import cm\n",
    "%matplotlib widget"
   ]
  },
  {
   "cell_type": "code",
   "execution_count": null,
   "metadata": {},
   "outputs": [],
   "source": [
    "mass_lifetime_file = \"./inputs/NuPyCEE/agb_and_massive_stars_C15_N13_0_5_HNe/yields2.h5\"\n",
    "file = h5py.File(mass_lifetime_file, \"r\")\n",
    "# file = h5py.File(\"../inputs/NuPyCEE/isotope_yield_table_portinari98_marigo01_gce_totalyields/yields1.h5\", \"r\")\n",
    "lifetime = { }\n",
    "for key in file.keys():\n",
    "    lifetime[key] = { }\n",
    "    lifetime[key]['Mini'] = file[key]['MassLifetime'][:,0].astype(float)\n",
    "    lifetime[key]['lifetime'] = file[key]['MassLifetime'][:,1].astype(float)\n",
    "\n",
    "mass_lifetime = MassLifetime(lifetime=lifetime)\n",
    "\n",
    "mass_lifetime = MassLifetime()"
   ]
  },
  {
   "cell_type": "code",
   "execution_count": null,
   "metadata": {},
   "outputs": [],
   "source": [
    "Z_list = list(mass_lifetime.lifetime.keys())\n",
    "ms = np.logspace(np.log10(0.08), np.log10(150), 100)\n",
    "t = { }\n",
    "for Z in Z_list:\n",
    "    t[Z] = mass_lifetime.mass_to_lifetime(ms, float(Z.replace(\"Z=\",\"\")), kind='nearest')\n",
    "\n",
    "fig, ax = plt.subplots()\n",
    "for Z in Z_list:\n",
    "    ax.plot(ms, t[Z], label=Z)\n",
    "ax.set_xscale('log')\n",
    "ax.set_yscale('log')\n",
    "ax.legend()"
   ]
  },
  {
   "cell_type": "code",
   "execution_count": null,
   "metadata": {},
   "outputs": [],
   "source": []
  },
  {
   "cell_type": "code",
   "execution_count": null,
   "metadata": {},
   "outputs": [],
   "source": []
  },
  {
   "cell_type": "code",
   "execution_count": null,
   "metadata": {},
   "outputs": [],
   "source": [
    "m = 20\n",
    "Zs = np.logspace(-4, np.log10(0.08), 1000)\n",
    "kinds = ['linear-linear', 'linear-log', 'log-linear', 'log-log', 'nearest']\n",
    "t = { }\n",
    "\n",
    "for kind in kinds:\n",
    "    t[kind] = np.array([mass_lifetime.mass_to_lifetime(m, Z, kind=kind)\n",
    "                for Z in Zs])\n",
    "\n",
    "fig, ax = plt.subplots()\n",
    "for kind in kinds:\n",
    "    ax.plot(Zs, t[kind], label=kind)\n",
    "ax.set_xscale('log')\n",
    "# ax.set_yscale('log')\n",
    "ax.set_xlabel('Z')\n",
    "ax.set_ylabel('t')\n",
    "ax.legend()"
   ]
  },
  {
   "cell_type": "code",
   "execution_count": null,
   "metadata": {},
   "outputs": [],
   "source": [
    "t = 1e7\n",
    "Zs = np.logspace(-4, np.log10(0.08), 1000)\n",
    "kinds = ['linear-linear', 'linear-log', 'log-linear', 'log-log', 'nearest']\n",
    "m = { }\n",
    "\n",
    "for kind in kinds:\n",
    "    m[kind] = np.array([mass_lifetime.lifetime_to_mass(t, Z, kind=kind)\n",
    "                for Z in Zs])\n",
    "\n",
    "fig, ax = plt.subplots()\n",
    "for kind in kinds:\n",
    "    ax.plot(Zs, m[kind], label=kind)\n",
    "ax.set_xscale('log')\n",
    "ax.set_xlabel('Z')\n",
    "ax.set_ylabel('m')\n",
    "ax.legend()"
   ]
  },
  {
   "cell_type": "code",
   "execution_count": null,
   "metadata": {},
   "outputs": [],
   "source": [
    "Zs = np.logspace(-4, np.log10(0.08), 100)\n",
    "ms = np.logspace(np.log10(0.08), np.log10(150), 100)\n",
    "kind = 'linear-linear'\n",
    "Zs, ms = np.meshgrid(Zs, ms)\n",
    "t = np.array([mass_lifetime.mass_to_lifetime(m, Z, kind)\n",
    "              for m, Z in zip(ms.ravel(), Zs.ravel())]).reshape(ms.shape)\n",
    "fig, ax = plt.subplots()\n",
    "c = ax.pcolormesh(Zs, ms, t, norm=colors.LogNorm(vmin=t.min(), vmax=t.max()), cmap = cm.coolwarm)\n",
    "cbar = fig.colorbar(c, ax=ax)\n",
    "ax.set_xscale('log')\n",
    "ax.set_yscale('log')\n",
    "ax.set_xlabel('Z')\n",
    "ax.set_ylabel(r'M [$M_{\\odot}$]')\n",
    "ax.set_title(kind)\n",
    "cbar.set_label('t [yr]')\n",
    "plt.show()"
   ]
  },
  {
   "cell_type": "code",
   "execution_count": null,
   "metadata": {},
   "outputs": [],
   "source": [
    "Zs = np.logspace(-4, np.log10(0.08), 100)\n",
    "ms = np.logspace(np.log10(0.08), np.log10(150), 100)\n",
    "kind = 'linear-log'\n",
    "Zs, ms = np.meshgrid(Zs, ms)\n",
    "t = np.array([mass_lifetime.mass_to_lifetime(m, Z, kind)\n",
    "              for m, Z in zip(ms.ravel(), Zs.ravel())]).reshape(ms.shape)\n",
    "fig, ax = plt.subplots()\n",
    "c = ax.pcolormesh(Zs, ms, t, norm=colors.LogNorm(vmin=t.min(), vmax=t.max()), cmap = cm.coolwarm)\n",
    "cbar = fig.colorbar(c, ax=ax)\n",
    "ax.set_xscale('log')\n",
    "ax.set_yscale('log')\n",
    "ax.set_xlabel('Z')\n",
    "ax.set_ylabel(r'M [$M_{\\odot}$]')\n",
    "ax.set_title(kind)\n",
    "cbar.set_label('t [yr]')\n",
    "plt.show()"
   ]
  },
  {
   "cell_type": "code",
   "execution_count": null,
   "metadata": {},
   "outputs": [],
   "source": []
  },
  {
   "cell_type": "code",
   "execution_count": null,
   "metadata": {},
   "outputs": [],
   "source": []
  },
  {
   "cell_type": "code",
   "execution_count": null,
   "metadata": {},
   "outputs": [],
   "source": [
    "file = h5py.File(\"../inputs/NuPyCEE/isotope_yield_table_portinari98_marigo01_gce_totalyields/yields1.h5\", \"r\")\n",
    "lifetime = { }\n",
    "for key in file.keys():\n",
    "    lifetime[key] = { }\n",
    "    lifetime[key]['Mini'] = file[key]['MassLifetime'][:,0].astype(float)\n",
    "    lifetime[key]['lifetime'] = file[key]['MassLifetime'][:,1].astype(float)\n",
    "\n",
    "mass_lifetime = MassLifetime(lifetime=lifetime)"
   ]
  },
  {
   "cell_type": "code",
   "execution_count": null,
   "metadata": {},
   "outputs": [],
   "source": []
  },
  {
   "cell_type": "code",
   "execution_count": null,
   "metadata": {},
   "outputs": [],
   "source": [
    "mass_lifetime.lifetime_to_mass(1e10, 0)"
   ]
  },
  {
   "cell_type": "code",
   "execution_count": null,
   "metadata": {},
   "outputs": [],
   "source": [
    "import math\n",
    "\n",
    "file = open('../../galIMF/yield_tables/rearranged/setllar_lifetime_from_portinari98/portinari98_Z=0.0004.txt','r')\n",
    "lines = file.readlines()\n",
    "file.close()\n",
    "Mini1 = np.array(lines[3].split(), dtype=float)\n",
    "lifetime1 = np.array(lines[5].split(), dtype=float)\n",
    "\n",
    "def fucntion_mass_boundary(time, mass_grid_for_lifetime, lifetime):\n",
    "    # The adopted spline fit of portinari98 lifetime is not monotonic at the massive end. \n",
    "    # But this function ensures that lifetime is monotonically smaller for more massive stars.\n",
    "    mass = mass_grid_for_lifetime\n",
    "    length_list_lifetime = len(lifetime)\n",
    "    x = round(length_list_lifetime / 2)\n",
    "    loop_number_fucntion_mass_boundary = math.ceil(math.log(length_list_lifetime, 2))\n",
    "    mass_boundary = 10000\n",
    "    if lifetime[x] == time:\n",
    "        mass_boundary = mass[x]\n",
    "    else:\n",
    "        i = 0\n",
    "        low = 0\n",
    "        high = length_list_lifetime\n",
    "        while i < loop_number_fucntion_mass_boundary:\n",
    "            if lifetime[x] > time:\n",
    "                low = x\n",
    "                x = x + round((high - x) / 2)\n",
    "            else:\n",
    "                high = x\n",
    "                x = x - round((x - low) / 2)\n",
    "            (i) = (i + 1)\n",
    "        if x == length_list_lifetime - 1:\n",
    "            mass_boundary = mass[x]\n",
    "        else:\n",
    "            if lifetime[x - 1] > time > lifetime[x]:\n",
    "                x = x - 1\n",
    "            mass_boundary = round(mass[x] + (mass[x + 1] - mass[x]) * (lifetime[x] - time) / (\n",
    "                lifetime[x] - lifetime[x + 1]), 5)\n",
    "    return mass_boundary\n",
    "\n",
    "\n",
    "for i in range(1,10):\n",
    "    print(\"After %0.2e yr\"%(i*1e7))\n",
    "    print(\"Stars with mass >=%0.4f Msun will explode in ChemEvoIMF\"%utils.lifetime_to_mass(i*1e7, 0))\n",
    "    print(\"Stars with mass >=%0.4f Msun will explode in galIMF\"%fucntion_mass_boundary(i*1e7, Mini1, lifetime1))\n",
    "    print(\"Stars with mass >=%0.4f Msun will explode in new mass lifetime table\"%mass_lifetime.lifetime_to_mass(i*1e7, 0))\n"
   ]
  },
  {
   "cell_type": "code",
   "execution_count": null,
   "metadata": {},
   "outputs": [],
   "source": []
  }
 ],
 "metadata": {
  "kernelspec": {
   "display_name": "base",
   "language": "python",
   "name": "python3"
  },
  "language_info": {
   "codemirror_mode": {
    "name": "ipython",
    "version": 3
   },
   "file_extension": ".py",
   "mimetype": "text/x-python",
   "name": "python",
   "nbconvert_exporter": "python",
   "pygments_lexer": "ipython3",
   "version": "3.11.5"
  }
 },
 "nbformat": 4,
 "nbformat_minor": 2
}
