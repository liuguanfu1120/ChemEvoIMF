{
 "cells": [
  {
   "cell_type": "code",
   "execution_count": 1,
   "metadata": {},
   "outputs": [],
   "source": [
    "# -*- coding: utf-8 -*-\n",
    "\"\"\"\n",
    "Created on May 12, 2024\n",
    "Last modified on May 14, 2024\n",
    "@Author: Guan-Fu Liu\n",
    "\n",
    "To test the MassLifetime.py\n",
    "\"\"\"\n",
    "import numpy as np\n",
    "import pandas as pd\n",
    "from scipy.integrate import quad\n",
    "import sys\n",
    "sys.path.insert(0, '/Users/liuguanfu/Workspace/SAS-21/targets/MRK1216/spex/jupyter/IMF/chemevoimf')\n",
    "from MassLifetime import MassLifetime\n",
    "import constants\n",
    "import utils\n",
    "import h5py"
   ]
  },
  {
   "cell_type": "code",
   "execution_count": 2,
   "metadata": {},
   "outputs": [],
   "source": [
    "mass_lifetime = MassLifetime()"
   ]
  },
  {
   "cell_type": "code",
   "execution_count": 3,
   "metadata": {},
   "outputs": [
    {
     "data": {
      "text/plain": [
       "(array(0.8748809), array(0.8748809))"
      ]
     },
     "execution_count": 3,
     "metadata": {},
     "output_type": "execute_result"
    }
   ],
   "source": [
    "mass_lifetime.lifetime_to_mass(1e10, 0), utils.lifetime_to_mass(1e10, 0)"
   ]
  },
  {
   "cell_type": "code",
   "execution_count": 4,
   "metadata": {},
   "outputs": [],
   "source": [
    "file = h5py.File(\"../inputs/NuPyCEE/isotope_yield_table_portinari98_marigo01_gce_totalyields/yields1.h5\", \"r\")\n",
    "lifetime = { }\n",
    "for key in file.keys():\n",
    "    lifetime[key] = { }\n",
    "    lifetime[key]['Mini'] = file[key]['MassLifetime'][:,0].astype(float)\n",
    "    lifetime[key]['lifetime'] = file[key]['MassLifetime'][:,1].astype(float)\n",
    "\n",
    "mass_lifetime = MassLifetime(lifetime=lifetime)"
   ]
  },
  {
   "cell_type": "code",
   "execution_count": null,
   "metadata": {},
   "outputs": [],
   "source": []
  },
  {
   "cell_type": "code",
   "execution_count": 5,
   "metadata": {},
   "outputs": [
    {
     "data": {
      "text/plain": [
       "array(0.85937888)"
      ]
     },
     "execution_count": 5,
     "metadata": {},
     "output_type": "execute_result"
    }
   ],
   "source": [
    "mass_lifetime.lifetime_to_mass(1e10, 0)"
   ]
  },
  {
   "cell_type": "code",
   "execution_count": 6,
   "metadata": {},
   "outputs": [
    {
     "name": "stdout",
     "output_type": "stream",
     "text": [
      "After 1.00e+07 yr\n",
      "Stars with mass >=21.1314 Msun will explode in ChemEvoIMF\n",
      "Stars with mass >=20.2899 Msun will explode in galIMF\n",
      "Stars with mass >=20.3237 Msun will explode in new mass lifetime table\n",
      "After 2.00e+07 yr\n",
      "Stars with mass >=12.5313 Msun will explode in ChemEvoIMF\n",
      "Stars with mass >=12.0821 Msun will explode in galIMF\n",
      "Stars with mass >=12.0876 Msun will explode in new mass lifetime table\n",
      "After 3.00e+07 yr\n",
      "Stars with mass >=9.7457 Msun will explode in ChemEvoIMF\n",
      "Stars with mass >=9.3556 Msun will explode in galIMF\n",
      "Stars with mass >=9.3742 Msun will explode in new mass lifetime table\n",
      "After 4.00e+07 yr\n",
      "Stars with mass >=8.2359 Msun will explode in ChemEvoIMF\n",
      "Stars with mass >=7.9154 Msun will explode in galIMF\n",
      "Stars with mass >=7.9382 Msun will explode in new mass lifetime table\n",
      "After 5.00e+07 yr\n",
      "Stars with mass >=7.2580 Msun will explode in ChemEvoIMF\n",
      "Stars with mass >=6.9992 Msun will explode in galIMF\n",
      "Stars with mass >=6.9993 Msun will explode in new mass lifetime table\n",
      "After 6.00e+07 yr\n",
      "Stars with mass >=6.5783 Msun will explode in ChemEvoIMF\n",
      "Stars with mass >=6.3538 Msun will explode in galIMF\n",
      "Stars with mass >=6.3594 Msun will explode in new mass lifetime table\n",
      "After 7.00e+07 yr\n",
      "Stars with mass >=6.0671 Msun will explode in ChemEvoIMF\n",
      "Stars with mass >=5.8686 Msun will explode in galIMF\n",
      "Stars with mass >=5.8716 Msun will explode in new mass lifetime table\n",
      "After 8.00e+07 yr\n",
      "Stars with mass >=5.6546 Msun will explode in ChemEvoIMF\n",
      "Stars with mass >=5.4875 Msun will explode in galIMF\n",
      "Stars with mass >=5.4943 Msun will explode in new mass lifetime table\n",
      "After 9.00e+07 yr\n",
      "Stars with mass >=5.3138 Msun will explode in ChemEvoIMF\n",
      "Stars with mass >=5.1779 Msun will explode in galIMF\n",
      "Stars with mass >=5.1818 Msun will explode in new mass lifetime table\n"
     ]
    }
   ],
   "source": [
    "import math\n",
    "\n",
    "file = open('../../galIMF/yield_tables/rearranged/setllar_lifetime_from_portinari98/portinari98_Z=0.0004.txt','r')\n",
    "lines = file.readlines()\n",
    "file.close()\n",
    "Mini1 = np.array(lines[3].split(), dtype=float)\n",
    "lifetime1 = np.array(lines[5].split(), dtype=float)\n",
    "\n",
    "def fucntion_mass_boundary(time, mass_grid_for_lifetime, lifetime):\n",
    "    # The adopted spline fit of portinari98 lifetime is not monotonic at the massive end. \n",
    "    # But this function ensures that lifetime is monotonically smaller for more massive stars.\n",
    "    mass = mass_grid_for_lifetime\n",
    "    length_list_lifetime = len(lifetime)\n",
    "    x = round(length_list_lifetime / 2)\n",
    "    loop_number_fucntion_mass_boundary = math.ceil(math.log(length_list_lifetime, 2))\n",
    "    mass_boundary = 10000\n",
    "    if lifetime[x] == time:\n",
    "        mass_boundary = mass[x]\n",
    "    else:\n",
    "        i = 0\n",
    "        low = 0\n",
    "        high = length_list_lifetime\n",
    "        while i < loop_number_fucntion_mass_boundary:\n",
    "            if lifetime[x] > time:\n",
    "                low = x\n",
    "                x = x + round((high - x) / 2)\n",
    "            else:\n",
    "                high = x\n",
    "                x = x - round((x - low) / 2)\n",
    "            (i) = (i + 1)\n",
    "        if x == length_list_lifetime - 1:\n",
    "            mass_boundary = mass[x]\n",
    "        else:\n",
    "            if lifetime[x - 1] > time > lifetime[x]:\n",
    "                x = x - 1\n",
    "            mass_boundary = round(mass[x] + (mass[x + 1] - mass[x]) * (lifetime[x] - time) / (\n",
    "                lifetime[x] - lifetime[x + 1]), 5)\n",
    "    return mass_boundary\n",
    "\n",
    "\n",
    "for i in range(1,10):\n",
    "    print(\"After %0.2e yr\"%(i*1e7))\n",
    "    print(\"Stars with mass >=%0.4f Msun will explode in ChemEvoIMF\"%utils.lifetime_to_mass(i*1e7, 0))\n",
    "    print(\"Stars with mass >=%0.4f Msun will explode in galIMF\"%fucntion_mass_boundary(i*1e7, Mini1, lifetime1))\n",
    "    print(\"Stars with mass >=%0.4f Msun will explode in new mass lifetime table\"%mass_lifetime.lifetime_to_mass(i*1e7, 0))\n"
   ]
  },
  {
   "cell_type": "code",
   "execution_count": null,
   "metadata": {},
   "outputs": [],
   "source": []
  }
 ],
 "metadata": {
  "kernelspec": {
   "display_name": "base",
   "language": "python",
   "name": "python3"
  },
  "language_info": {
   "codemirror_mode": {
    "name": "ipython",
    "version": 3
   },
   "file_extension": ".py",
   "mimetype": "text/x-python",
   "name": "python",
   "nbconvert_exporter": "python",
   "pygments_lexer": "ipython3",
   "version": "3.11.5"
  }
 },
 "nbformat": 4,
 "nbformat_minor": 2
}
