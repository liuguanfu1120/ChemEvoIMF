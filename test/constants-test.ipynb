{
 "cells": [
  {
   "cell_type": "code",
   "execution_count": 1,
   "metadata": {},
   "outputs": [],
   "source": [
    "# -*- coding: utf-8 -*-\n",
    "\"\"\"\n",
    "Created on May 12, 2024\n",
    "Last modified on May 14, 2024\n",
    "@Author: Guan-Fu Liu\n",
    "\n",
    "To test the constants.py\n",
    "\"\"\"\n",
    "import numpy as np\n",
    "import pandas as pd\n",
    "from scipy.integrate import quad\n",
    "import sys\n",
    "sys.path.insert(0, '../')\n",
    "from constants import *"
   ]
  },
  {
   "cell_type": "code",
   "execution_count": 2,
   "metadata": {},
   "outputs": [
    {
     "data": {
      "text/plain": [
       "['',\n",
       " 'H',\n",
       " 'He',\n",
       " 'Li',\n",
       " 'Be',\n",
       " 'B',\n",
       " 'C',\n",
       " 'N',\n",
       " 'O',\n",
       " 'F',\n",
       " 'Ne',\n",
       " 'Na',\n",
       " 'Mg',\n",
       " 'Al',\n",
       " 'Si',\n",
       " 'P',\n",
       " 'S',\n",
       " 'Cl',\n",
       " 'Ar',\n",
       " 'K',\n",
       " 'Ca',\n",
       " 'Sc',\n",
       " 'Ti',\n",
       " 'V',\n",
       " 'Cr',\n",
       " 'Mn',\n",
       " 'Fe',\n",
       " 'Co',\n",
       " 'Ni',\n",
       " 'Cu',\n",
       " 'Zn',\n",
       " 'Other']"
      ]
     },
     "execution_count": 2,
     "metadata": {},
     "output_type": "execute_result"
    }
   ],
   "source": [
    "elem_names"
   ]
  },
  {
   "cell_type": "code",
   "execution_count": 6,
   "metadata": {},
   "outputs": [
    {
     "name": "stdout",
     "output_type": "stream",
     "text": [
      "{'H': 1505.9829458827182, 'He': 494.0150534172994, 'Li': 6.999822177652343e-07, 'Be': 1.962885044209268e-11, 'B': 7.224830314308864e-10, 'C': 0.00030731099342073097, 'N': 0.00010553645311120413, 'O': 0.0008934799805687758, 'F': 5.428386019940174e-08, 'Ne': 0.00023599252686893046, 'Na': 4.7152013544221695e-06, 'Mg': 8.905974871357827e-05, 'Al': 8.110034749215177e-06, 'Si': 9.986444990434649e-05, 'P': 9.140293692362438e-07, 'S': 4.7970269744555255e-05, 'Cl': 6.510715812199572e-07, 'Ar': 1.3166486132640093e-05, 'K': 5.22568164303936e-07, 'Ca': 8.607497325554332e-06, 'Sc': 5.5046326204258015e-09, 'Ti': 4.207510575578843e-07, 'V': 5.176400303701088e-08, 'Cr': 2.420364647123034e-06, 'Mn': 1.8020233139164196e-06, 'Fe': 0.00016820743936402495, 'Co': 4.924414587462e-07, 'Ni': 1.0218904138256682e-05, 'Cu': 1.221805280952619e-07, 'Zn': 3.0228987582777503e-07, 'Other': 0.0, 'Gas': array([0.00000000e+00, 1.50598295e+03, 4.94015053e+02, 6.99982218e-07,\n",
      "       1.96288504e-11, 7.22483031e-10, 3.07310993e-04, 1.05536453e-04,\n",
      "       8.93479981e-04, 5.42838602e-08, 2.35992527e-04, 4.71520135e-06,\n",
      "       8.90597487e-05, 8.11003475e-06, 9.98644499e-05, 9.14029369e-07,\n",
      "       4.79702697e-05, 6.51071581e-07, 1.31664861e-05, 5.22568164e-07,\n",
      "       8.60749733e-06, 5.50463262e-09, 4.20751058e-07, 5.17640030e-08,\n",
      "       2.42036465e-06, 1.80202331e-06, 1.68207439e-04, 4.92441459e-07,\n",
      "       1.02189041e-05, 1.22180528e-07, 3.02289876e-07, 0.00000000e+00])}\n"
     ]
    }
   ],
   "source": [
    "solar_set = \"Default\"  # The solar abundance set\n",
    "mass = 2000  # The mass of the gas in the unit of Msun\n",
    "pr_gas = pg.Primordial_gas(mass=mass, Z_0=1e-6).add_metals()\n",
    "print(pr_gas)"
   ]
  },
  {
   "cell_type": "code",
   "execution_count": null,
   "metadata": {},
   "outputs": [],
   "source": []
  },
  {
   "cell_type": "code",
   "execution_count": null,
   "metadata": {},
   "outputs": [],
   "source": []
  }
 ],
 "metadata": {
  "kernelspec": {
   "display_name": "base",
   "language": "python",
   "name": "python3"
  },
  "language_info": {
   "codemirror_mode": {
    "name": "ipython",
    "version": 3
   },
   "file_extension": ".py",
   "mimetype": "text/x-python",
   "name": "python",
   "nbconvert_exporter": "python",
   "pygments_lexer": "ipython3",
   "version": "3.11.5"
  }
 },
 "nbformat": 4,
 "nbformat_minor": 2
}
