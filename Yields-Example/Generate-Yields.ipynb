{
 "cells": [
  {
   "cell_type": "code",
   "execution_count": 1,
   "metadata": {},
   "outputs": [],
   "source": [
    "# -*- coding: utf-8 -*-\n",
    "\"\"\"\n",
    "Created on June 7, 2024\n",
    "Last modified on June 7, 2024\n",
    "@Author: Guan-Fu Liu\n",
    "\n",
    "To generate the yield file used in ChemEvoIMF\n",
    "\"\"\"\n",
    "import numpy as np\n",
    "import pandas as pd\n",
    "import os\n",
    "import sys\n",
    "import re\n",
    "import h5py\n",
    "sys.path.insert(0, '../')\n",
    "import utils"
   ]
  },
  {
   "cell_type": "markdown",
   "metadata": {},
   "source": [
    "# Input file format\n",
    "## Yields file\n",
    "It should be named by `Z=X.XXXX-Original.csv`.\n",
    "The yields are in the unit of solar mass.\n",
    "## Mass lifetime file\n",
    "It should be named by `Z=X.XXXX-MassLifetime.csv`.\n",
    "The first column is the initial mass in solar mass and the second column is the lifetime in yr.\n",
    "Mass lifetime file is not a must, since there is a built-in mass lifetime relation.\n",
    "However, if you mass lifetime files, they should correspond to the yields files.\n",
    "\n",
    "# Output HDF5 file\n",
    "There are two kinds of HDF5 files: `yields1.h5` and `yields2.h5`.\n",
    "They are equivalent, but the format is different."
   ]
  },
  {
   "cell_type": "code",
   "execution_count": 2,
   "metadata": {},
   "outputs": [],
   "source": [
    "file_list = os.listdir()\n",
    "file_list = [f for f in file_list if f.endswith('.csv')]\n",
    "Z_list = [file.split(\"-\")[0] for file in file_list]\n",
    "Z_list = list(set(Z_list))"
   ]
  },
  {
   "cell_type": "code",
   "execution_count": 3,
   "metadata": {},
   "outputs": [],
   "source": [
    "with h5py.File(\"yields1.h5\", \"w\") as f:\n",
    "    for Z in Z_list:\n",
    "        f.create_group(Z)\n",
    "        df1 = pd.read_csv(f\"{Z}-Original.csv\")\n",
    "          # hdf5 does not support string with object type\n",
    "        # \"|S\" will find the maximum length of the string in the selected column\n",
    "        df1['M'] = df1['M'].astype('|S')\n",
    "        data = df1.to_records(index=False)\n",
    "        dtype = df1.to_records(index=False).dtype\n",
    "        f[Z].attrs['Z'] = \"%s\" % Z[2:]\n",
    "        f[Z].attrs['MassUnit'] = 'Msun'\n",
    "        f[Z].create_dataset('Original', data=data, dtype=dtype)\n",
    "        df1 = pd.read_csv(f\"{Z}-Original.csv\", index_col=0)\n",
    "        columns = [\"%0.6e\" % a for a in np.logspace(np.log10(0.08), np.log10(150), 300)]\n",
    "        df2 = pd.DataFrame(np.zeros((len(df1.index), len(columns))), index=df1.index, columns=columns)\n",
    "        for i, row in df1.iterrows():\n",
    "            x1 = row.index.to_numpy().astype(float)  # x1 is the initial mass from original yields\n",
    "            y1 = row.to_numpy().astype(float)  # y1 is the remnant mass from original yields\n",
    "            # extrapolate and interpolate the yields\n",
    "            df2.loc[row.name, :] = [utils.extra_interpolate_yields(x1, y1, row.name, float(col)) for col in columns]\n",
    "        df2.reset_index(drop=True, inplace=True)\n",
    "        df2.to_csv(f\"{Z}-Interpolated.csv\", index=False)\n",
    "        data = df2.to_records(index=False)\n",
    "        dtype = df2.to_records(index=False).dtype\n",
    "        f[Z].create_dataset('Interpolated', data=data, dtype=dtype)\n",
    "        f[Z].create_dataset('MassLifetime', data=np.loadtxt(f\"{Z}-MassLifetime.csv\", delimiter=\",\"))"
   ]
  },
  {
   "cell_type": "code",
   "execution_count": 5,
   "metadata": {},
   "outputs": [],
   "source": [
    "with h5py.File(\"yields2.h5\", 'a') as f:\n",
    "    for Z in Z_list:\n",
    "        f[Z.replace(\"=\", \"_\").replace(\".\", \"_\")].create_dataset('MassLifetime', \n",
    "                                                                data=np.loadtxt(f\"{Z}-MassLifetime.csv\", delimiter=\",\"))\n",
    "        f[Z.replace(\"=\", \"_\").replace(\".\", \"_\")].attrs['Z'] = \"%s\" % Z[2:]\n",
    "        f[Z.replace(\"=\", \"_\").replace(\".\", \"_\")].attrs['MassUnit'] = 'Msun'\n",
    "for Z in Z_list:\n",
    "    df1 = pd.read_csv(f\"{Z}-Original.csv\", index_col=0)\n",
    "    df1.to_hdf('yields2.h5', key='/%s/Original' % Z.replace(\"=\", \"_\").replace(\".\", \"_\"), mode='a')\n",
    "    df2 = pd.read_csv(f\"{Z}-Interpolated.csv\", index_col=0)\n",
    "    df2.to_hdf('yields2.h5', key='/%s/Interpolated' % Z.replace(\"=\", \"_\").replace(\".\", \"_\"), mode='a')\n"
   ]
  },
  {
   "cell_type": "code",
   "execution_count": null,
   "metadata": {},
   "outputs": [],
   "source": []
  },
  {
   "cell_type": "code",
   "execution_count": null,
   "metadata": {},
   "outputs": [],
   "source": []
  },
  {
   "cell_type": "code",
   "execution_count": null,
   "metadata": {},
   "outputs": [],
   "source": []
  },
  {
   "cell_type": "code",
   "execution_count": null,
   "metadata": {},
   "outputs": [],
   "source": []
  }
 ],
 "metadata": {
  "kernelspec": {
   "display_name": "base",
   "language": "python",
   "name": "python3"
  },
  "language_info": {
   "codemirror_mode": {
    "name": "ipython",
    "version": 3
   },
   "file_extension": ".py",
   "mimetype": "text/x-python",
   "name": "python",
   "nbconvert_exporter": "python",
   "pygments_lexer": "ipython3",
   "version": "3.11.5"
  }
 },
 "nbformat": 4,
 "nbformat_minor": 2
}
