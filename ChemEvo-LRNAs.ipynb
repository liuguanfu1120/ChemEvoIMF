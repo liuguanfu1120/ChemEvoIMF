{
 "cells": [
  {
   "cell_type": "code",
   "execution_count": 1,
   "metadata": {},
   "outputs": [],
   "source": [
    "# -*- coding: utf-8 -*-\n",
    "\"\"\"\n",
    "Created on May 27, 2024\n",
    "Last modified on May 27, 2024\n",
    "@Author: Guan-Fu Liu\n",
    "\n",
    "Simulation for LRNAs.\n",
    "\"\"\"\n",
    "from ChemEvo import *\n",
    "import matplotlib.pyplot as plt\n",
    "from matplotlib.gridspec import GridSpec\n",
    "%matplotlib widget"
   ]
  },
  {
   "cell_type": "code",
   "execution_count": 2,
   "metadata": {},
   "outputs": [
    {
     "name": "stdout",
     "output_type": "stream",
     "text": [
      "The elements you notice but not available in the yield table of SNIa, Z=0.02 are\n",
      " {'H', 'He'}\n",
      "Step 0: Initialize the first age, the primordial gas\n"
     ]
    },
    {
     "name": "stderr",
     "output_type": "stream",
     "text": [
      "100%|██████████| 1363/1363 [00:05<00:00, 262.90it/s]\n"
     ]
    },
    {
     "name": "stdout",
     "output_type": "stream",
     "text": [
      "Step 1: Calculate the remaining ages\n"
     ]
    },
    {
     "name": "stderr",
     "output_type": "stream",
     "text": [
      "  4%|▍         | 53/1362 [13:04<5:30:06, 15.13s/it]"
     ]
    }
   ],
   "source": [
    "SFH = { }\n",
    "SFH['File'] = f\"./inputs/SFH.h5\"\n",
    "with h5py.File(SFH['File'], 'r') as f:\n",
    "    SFH['Age'] = f['SFH/1Square'][...][:, 0]\n",
    "    SFH['SFR'] = f['SFH/1Square'][...][:, 1]\n",
    "\n",
    "SFE = 0.3\n",
    "\n",
    "###### For comparison with Nomoto et al. (2013) ######\n",
    "yield_files = { \n",
    "    \"AGB+SNcc\": \"./inputs/NuPyCEE/agb_and_massive_stars_K10_K06_0.5HNe/yields1.h5\",\n",
    "    \"SNIa\": \"./inputs/NuPyCEE/sn1a_i99_W7/yields1.h5\",\n",
    "}\n",
    "mass_lifetime_file = \"./inputs/NuPyCEE/agb_and_massive_stars_K10_K06_0.5HNe/yields1.h5\"\n",
    "p_preset = None\n",
    "out_file = \"K10-K06-0.5-HN.h5\"\n",
    "comments = \"AGB: Karakas (2010, K10) and Massive: Kobayashi et al. (2006, K06)\"\n",
    "###### For comparison with Nomoto et al. (2013) ######\n",
    "\n",
    "imf_dict = {\"Salpeter\": None}\n",
    "ElemNotice = [\"H\", \"He\", \"C\", \"N\", \"O\", \"Ne\", \"Fe\", \"Other\"]\n",
    "interp_kind = \"linear-log\"\n",
    "SNIaOn = True\n",
    "solar_set = \"Default\"\n",
    "Z_0 = 0\n",
    "output_dir = \"./outputs/LRNAs\"  # Should not end with \"/\"\n",
    "def imf_evolve(Z_gas):\n",
    "    if Z_gas < 0.02:\n",
    "        return lambda m: m**(-1.3) if (m>=constants.Mstar_min and m<=constants.Mstar_max) else 0\n",
    "    else:\n",
    "        return lambda m: m**(-2.35) if (m>=constants.Mstar_min and m<=constants.Mstar_max) else 0\n",
    "\n",
    "GasElement, ZGas, EjectElement, SNIaElement, SNccElement, AGB_Element, StarInitElement, YieldsTable,\\\n",
    "           SNIaNum, SNccNum, AGB_Num, Nstar, StellarMass = \\\n",
    "            ChemEvo(SFH, SFE, yield_files, imf_dict=imf_dict, imf_evolve=None, SNIaOn=SNIaOn, p_preset=p_preset,\n",
    "                    mass_lifetime_file=mass_lifetime_file,\n",
    "                    interp_kind=interp_kind, solar_set=solar_set, Z_0=Z_0, input_primodiral_gas=None,\n",
    "                    ElemNotice=ElemNotice,\n",
    "                    output_dir=output_dir, out_file=out_file, comments=comments)"
   ]
  },
  {
   "cell_type": "code",
   "execution_count": null,
   "metadata": {},
   "outputs": [],
   "source": [
    "groups = {'AGB+SNcc': ['Z=0.0001', 'Z=0.001', 'Z=0.006', 'Z=0.01', 'Z=0.02'], 'SNIa': ['Z_0_02']}\n",
    "{key: [group.replace(\"Z_\",\"Z=\") for group in groups[key]] for key in groups.keys()}"
   ]
  },
  {
   "cell_type": "code",
   "execution_count": null,
   "metadata": {},
   "outputs": [],
   "source": [
    "fig = plt.figure(figsize=(12,9))\n",
    "gs = GridSpec(1, 1, width_ratios=[1], height_ratios=[1], wspace=0.0, hspace=0.0)\n",
    "axes = { }\n",
    "ElemNotice = [\"Other\"]\n",
    "for i, elem in enumerate(ElemNotice):\n",
    "    axes[elem] = fig.add_subplot(gs[i//3, i%3])\n",
    "    norm = EjectElement[:, constants.elem_names.index(elem)].max()\n",
    "    axes[elem].plot(SFH['Age']/1e9, (SNccElement[:, constants.elem_names.index(elem)]+\n",
    "                                     AGB_Element[:, constants.elem_names.index(elem)]+\n",
    "                                     SNIaElement[:, constants.elem_names.index(elem)])/norm-\n",
    "                                     EjectElement[:, constants.elem_names.index(elem)]/norm, \n",
    "                                     '-*',\n",
    "                                     label=\"Deviation\")\n",
    "    axes[elem].annotate(elem, xy=(0.85, 0.85), xycoords='axes fraction')\n",
    "    axes[elem].legend(loc='upper right')\n",
    "\n",
    "fig.supxlabel(\"Time [Gyr]\", y=0.04)\n",
    "fig.supylabel(r\"Normalized Mass\", x=0.085)\n",
    "deviation = np.abs(EjectElement.cumsum(axis=0)-SNccElement.cumsum(axis=0)-AGB_Element.cumsum(axis=0)-SNIaElement.cumsum(axis=0))\n",
    "mask = EjectElement>0\n",
    "deviation = deviation[mask]\n",
    "deviation = deviation / EjectElement.cumsum(axis=0)[mask]\n",
    "deviation = deviation.max()\n",
    "fig.suptitle(\"The maximum cumulative deviation is %0.4e\" % deviation, y=0.92)\n",
    "plt.show()\n",
    "print(np.abs(EjectElement-SNccElement-AGB_Element-SNIaElement).max())"
   ]
  },
  {
   "cell_type": "code",
   "execution_count": null,
   "metadata": {},
   "outputs": [],
   "source": []
  },
  {
   "cell_type": "code",
   "execution_count": null,
   "metadata": {},
   "outputs": [],
   "source": [
    "fig, ax = plt.subplots(1, 1, figsize=(12,9))\n",
    "line1, = ax.plot(SFH['Age']/1e9, ZGas, '-*')\n",
    "ax1 = ax.twinx()\n",
    "line2, = ax1.plot(SFH['Age']/1e9, SFH['SFR'], '-.', color='r')\n",
    "ax.set_xlabel(\"Time [Gyr]\")\n",
    "ax.set_ylabel(\"Gas metallicity\")\n",
    "ax1.set_ylabel(r\"SFR [$M_{\\odot}/yr$]\")\n",
    "ax.legend((line1, line2), (\"Gas metallicity\", \"SFR\"), loc=(0.8, 0.5))\n",
    "plt.show()"
   ]
  },
  {
   "cell_type": "code",
   "execution_count": null,
   "metadata": {},
   "outputs": [],
   "source": [
    "YieldsTable[72]"
   ]
  },
  {
   "cell_type": "code",
   "execution_count": null,
   "metadata": {},
   "outputs": [],
   "source": []
  },
  {
   "cell_type": "code",
   "execution_count": null,
   "metadata": {},
   "outputs": [],
   "source": []
  }
 ],
 "metadata": {
  "kernelspec": {
   "display_name": "base",
   "language": "python",
   "name": "python3"
  },
  "language_info": {
   "codemirror_mode": {
    "name": "ipython",
    "version": 3
   },
   "file_extension": ".py",
   "mimetype": "text/x-python",
   "name": "python",
   "nbconvert_exporter": "python",
   "pygments_lexer": "ipython3",
   "version": "3.11.5"
  }
 },
 "nbformat": 4,
 "nbformat_minor": 2
}
